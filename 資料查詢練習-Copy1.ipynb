{
 "cells": [
  {
   "cell_type": "markdown",
   "id": "3a0a167e-5b46-44d7-bac7-6600f504ff1f",
   "metadata": {},
   "source": [
    "### 資料查詢優化"
   ]
  },
  {
   "cell_type": "markdown",
   "id": "8be55dc7-7d4d-4b8e-8de3-3b63b0b307ff",
   "metadata": {},
   "source": [
    "在尚未將系統數位化前，接到家長電話後需經過以下步驟：\n",
    "\n",
    "$$詢問班級、姓名 \\rightarrow 在名單中尋找該學生於課後班的班別 \\rightarrow 找到這週此班別對應教室的分機號碼$$\n",
    "\n",
    "步驟看似簡單，但在家長電話蜂擁而至時，這樣的步驟將會變得無比繁雜。"
   ]
  },
  {
   "cell_type": "code",
   "execution_count": 1,
   "id": "48ed69f0-d496-4b6a-b118-af116c030217",
   "metadata": {
    "tags": []
   },
   "outputs": [
    {
     "name": "stderr",
     "output_type": "stream",
     "text": [
      "/Users/ake/anaconda3/lib/python3.11/site-packages/pandas/core/arrays/masked.py:60: UserWarning: Pandas requires version '1.3.6' or newer of 'bottleneck' (version '1.3.5' currently installed).\n",
      "  from pandas.core import (\n"
     ]
    }
   ],
   "source": [
    "%matplotlib inline\n",
    "import pandas as pd\n",
    "import numpy as np\n",
    "import matplotlib.pyplot as plt"
   ]
  },
  {
   "cell_type": "markdown",
   "id": "4ca7c027-2a25-4975-bbe0-44ea1ff198e6",
   "metadata": {},
   "source": [
    "#### 首先，讀進先前建立的資料檔"
   ]
  },
  {
   "cell_type": "code",
   "execution_count": 2,
   "id": "f3e2f0b8-1e98-4b1c-aae2-6e8b0935b479",
   "metadata": {
    "tags": []
   },
   "outputs": [],
   "source": [
    "students = pd.read_csv(\"datasearch.csv\")"
   ]
  },
  {
   "cell_type": "markdown",
   "id": "2d442e67-1e95-4c3b-9a4a-14a34027677a",
   "metadata": {},
   "source": [
    "##### 了解資料的結構"
   ]
  },
  {
   "cell_type": "code",
   "execution_count": 3,
   "id": "88744f2e-65e8-498b-b0f8-bb6905a065fd",
   "metadata": {
    "tags": []
   },
   "outputs": [
    {
     "name": "stdout",
     "output_type": "stream",
     "text": [
      "<class 'pandas.core.frame.DataFrame'>\n",
      "RangeIndex: 205 entries, 0 to 204\n",
      "Data columns (total 15 columns):\n",
      " #   Column   Non-Null Count  Dtype  \n",
      "---  ------   --------------  -----  \n",
      " 0   student  205 non-null    object \n",
      " 1   teacher  205 non-null    object \n",
      " 2   class1   203 non-null    float64\n",
      " 3   class2   205 non-null    object \n",
      " 4   t_num    205 non-null    object \n",
      " 5   week11   205 non-null    object \n",
      " 6   week12   205 non-null    object \n",
      " 7   week13   205 non-null    object \n",
      " 8   week14   205 non-null    object \n",
      " 9   week15   205 non-null    object \n",
      " 10  week16   205 non-null    object \n",
      " 11  week17   205 non-null    object \n",
      " 12  week18   205 non-null    object \n",
      " 13  week19   205 non-null    object \n",
      " 14  week20   205 non-null    object \n",
      "dtypes: float64(1), object(14)\n",
      "memory usage: 24.2+ KB\n"
     ]
    }
   ],
   "source": [
    "students.info()"
   ]
  },
  {
   "cell_type": "markdown",
   "id": "bab28b8e-e64b-43e0-bf3b-bc5f5b5d82b3",
   "metadata": {},
   "source": [
    "##### 創建一個只有學生姓氏的column"
   ]
  },
  {
   "cell_type": "code",
   "execution_count": 4,
   "id": "0e8a4e1a-30a7-4199-9060-b19fb023ae28",
   "metadata": {
    "tags": []
   },
   "outputs": [],
   "source": [
    "students[\"stu_surname\"]= [x[0] for x in students[\"student\"]]"
   ]
  },
  {
   "cell_type": "markdown",
   "id": "d800d308-5657-4553-886e-91b0ce77e6ec",
   "metadata": {},
   "source": [
    "##### 檢查更改過後的資料"
   ]
  },
  {
   "cell_type": "code",
   "execution_count": 6,
   "id": "d217aa1a-6afc-48a6-a3e8-f0ce7eaa5d82",
   "metadata": {
    "tags": []
   },
   "outputs": [
    {
     "data": {
      "text/html": [
       "<div>\n",
       "<style scoped>\n",
       "    .dataframe tbody tr th:only-of-type {\n",
       "        vertical-align: middle;\n",
       "    }\n",
       "\n",
       "    .dataframe tbody tr th {\n",
       "        vertical-align: top;\n",
       "    }\n",
       "\n",
       "    .dataframe thead th {\n",
       "        text-align: right;\n",
       "    }\n",
       "</style>\n",
       "<table border=\"1\" class=\"dataframe\">\n",
       "  <thead>\n",
       "    <tr style=\"text-align: right;\">\n",
       "      <th></th>\n",
       "      <th>student</th>\n",
       "      <th>teacher</th>\n",
       "      <th>class1</th>\n",
       "      <th>class2</th>\n",
       "      <th>t_num</th>\n",
       "      <th>week11</th>\n",
       "      <th>week12</th>\n",
       "      <th>week13</th>\n",
       "      <th>week14</th>\n",
       "      <th>week15</th>\n",
       "      <th>week16</th>\n",
       "      <th>week17</th>\n",
       "      <th>week18</th>\n",
       "      <th>week19</th>\n",
       "      <th>week20</th>\n",
       "      <th>stu_surname</th>\n",
       "      <th>grade</th>\n",
       "    </tr>\n",
       "  </thead>\n",
       "  <tbody>\n",
       "    <tr>\n",
       "      <th>0</th>\n",
       "      <td>劉倬安</td>\n",
       "      <td>宮菀琦</td>\n",
       "      <td>101.0</td>\n",
       "      <td>一A</td>\n",
       "      <td>_0937098209</td>\n",
       "      <td>102_221</td>\n",
       "      <td>105_211</td>\n",
       "      <td>101_212</td>\n",
       "      <td>105_211</td>\n",
       "      <td>101_212</td>\n",
       "      <td>102_221</td>\n",
       "      <td>105_211</td>\n",
       "      <td>101_212</td>\n",
       "      <td>105_211</td>\n",
       "      <td>101_212</td>\n",
       "      <td>劉</td>\n",
       "      <td>一</td>\n",
       "    </tr>\n",
       "    <tr>\n",
       "      <th>1</th>\n",
       "      <td>劉宇楓</td>\n",
       "      <td>宮菀琦</td>\n",
       "      <td>103.0</td>\n",
       "      <td>一A</td>\n",
       "      <td>_0937098209</td>\n",
       "      <td>102_221</td>\n",
       "      <td>105_211</td>\n",
       "      <td>101_212</td>\n",
       "      <td>105_211</td>\n",
       "      <td>101_212</td>\n",
       "      <td>102_221</td>\n",
       "      <td>105_211</td>\n",
       "      <td>101_212</td>\n",
       "      <td>105_211</td>\n",
       "      <td>101_212</td>\n",
       "      <td>劉</td>\n",
       "      <td>一</td>\n",
       "    </tr>\n",
       "    <tr>\n",
       "      <th>2</th>\n",
       "      <td>王橙</td>\n",
       "      <td>宮菀琦</td>\n",
       "      <td>103.0</td>\n",
       "      <td>一A</td>\n",
       "      <td>_0937098209</td>\n",
       "      <td>102_221</td>\n",
       "      <td>105_211</td>\n",
       "      <td>101_212</td>\n",
       "      <td>105_211</td>\n",
       "      <td>101_212</td>\n",
       "      <td>102_221</td>\n",
       "      <td>105_211</td>\n",
       "      <td>101_212</td>\n",
       "      <td>105_211</td>\n",
       "      <td>101_212</td>\n",
       "      <td>王</td>\n",
       "      <td>一</td>\n",
       "    </tr>\n",
       "    <tr>\n",
       "      <th>3</th>\n",
       "      <td>凃言臻</td>\n",
       "      <td>宮菀琦</td>\n",
       "      <td>103.0</td>\n",
       "      <td>一A</td>\n",
       "      <td>_0937098209</td>\n",
       "      <td>102_221</td>\n",
       "      <td>105_211</td>\n",
       "      <td>101_212</td>\n",
       "      <td>105_211</td>\n",
       "      <td>101_212</td>\n",
       "      <td>102_221</td>\n",
       "      <td>105_211</td>\n",
       "      <td>101_212</td>\n",
       "      <td>105_211</td>\n",
       "      <td>101_212</td>\n",
       "      <td>凃</td>\n",
       "      <td>一</td>\n",
       "    </tr>\n",
       "    <tr>\n",
       "      <th>4</th>\n",
       "      <td>王蘊文</td>\n",
       "      <td>宮菀琦</td>\n",
       "      <td>103.0</td>\n",
       "      <td>一A</td>\n",
       "      <td>_0937098209</td>\n",
       "      <td>102_221</td>\n",
       "      <td>105_211</td>\n",
       "      <td>101_212</td>\n",
       "      <td>105_211</td>\n",
       "      <td>101_212</td>\n",
       "      <td>102_221</td>\n",
       "      <td>105_211</td>\n",
       "      <td>101_212</td>\n",
       "      <td>105_211</td>\n",
       "      <td>101_212</td>\n",
       "      <td>王</td>\n",
       "      <td>一</td>\n",
       "    </tr>\n",
       "    <tr>\n",
       "      <th>...</th>\n",
       "      <td>...</td>\n",
       "      <td>...</td>\n",
       "      <td>...</td>\n",
       "      <td>...</td>\n",
       "      <td>...</td>\n",
       "      <td>...</td>\n",
       "      <td>...</td>\n",
       "      <td>...</td>\n",
       "      <td>...</td>\n",
       "      <td>...</td>\n",
       "      <td>...</td>\n",
       "      <td>...</td>\n",
       "      <td>...</td>\n",
       "      <td>...</td>\n",
       "      <td>...</td>\n",
       "      <td>...</td>\n",
       "      <td>...</td>\n",
       "    </tr>\n",
       "    <tr>\n",
       "      <th>200</th>\n",
       "      <td>李維禹</td>\n",
       "      <td>梁玲琪</td>\n",
       "      <td>605.0</td>\n",
       "      <td>六B</td>\n",
       "      <td>_0939068087</td>\n",
       "      <td>605_244</td>\n",
       "      <td>602_241</td>\n",
       "      <td>602_241</td>\n",
       "      <td>603_242</td>\n",
       "      <td>605_244</td>\n",
       "      <td>603_242</td>\n",
       "      <td>605_244</td>\n",
       "      <td>603_242</td>\n",
       "      <td>605_244</td>\n",
       "      <td>603_242</td>\n",
       "      <td>李</td>\n",
       "      <td>六</td>\n",
       "    </tr>\n",
       "    <tr>\n",
       "      <th>201</th>\n",
       "      <td>鄭奇緯</td>\n",
       "      <td>梁玲琪</td>\n",
       "      <td>605.0</td>\n",
       "      <td>六B</td>\n",
       "      <td>_0939068087</td>\n",
       "      <td>605_244</td>\n",
       "      <td>602_241</td>\n",
       "      <td>602_241</td>\n",
       "      <td>603_242</td>\n",
       "      <td>605_244</td>\n",
       "      <td>603_242</td>\n",
       "      <td>605_244</td>\n",
       "      <td>603_242</td>\n",
       "      <td>605_244</td>\n",
       "      <td>603_242</td>\n",
       "      <td>鄭</td>\n",
       "      <td>六</td>\n",
       "    </tr>\n",
       "    <tr>\n",
       "      <th>202</th>\n",
       "      <td>李品寬</td>\n",
       "      <td>梁玲琪</td>\n",
       "      <td>605.0</td>\n",
       "      <td>六B</td>\n",
       "      <td>_0939068087</td>\n",
       "      <td>605_244</td>\n",
       "      <td>602_241</td>\n",
       "      <td>602_241</td>\n",
       "      <td>603_242</td>\n",
       "      <td>605_244</td>\n",
       "      <td>603_242</td>\n",
       "      <td>605_244</td>\n",
       "      <td>603_242</td>\n",
       "      <td>605_244</td>\n",
       "      <td>603_242</td>\n",
       "      <td>李</td>\n",
       "      <td>六</td>\n",
       "    </tr>\n",
       "    <tr>\n",
       "      <th>203</th>\n",
       "      <td>楊綺函</td>\n",
       "      <td>梁玲琪</td>\n",
       "      <td>605.0</td>\n",
       "      <td>六B</td>\n",
       "      <td>_0939068087</td>\n",
       "      <td>605_244</td>\n",
       "      <td>602_241</td>\n",
       "      <td>602_241</td>\n",
       "      <td>603_242</td>\n",
       "      <td>605_244</td>\n",
       "      <td>603_242</td>\n",
       "      <td>605_244</td>\n",
       "      <td>603_242</td>\n",
       "      <td>605_244</td>\n",
       "      <td>603_242</td>\n",
       "      <td>楊</td>\n",
       "      <td>六</td>\n",
       "    </tr>\n",
       "    <tr>\n",
       "      <th>204</th>\n",
       "      <td>朱語倩</td>\n",
       "      <td>梁玲琪</td>\n",
       "      <td>602.0</td>\n",
       "      <td>六B</td>\n",
       "      <td>_0939068087</td>\n",
       "      <td>605_244</td>\n",
       "      <td>602_241</td>\n",
       "      <td>602_241</td>\n",
       "      <td>603_242</td>\n",
       "      <td>605_244</td>\n",
       "      <td>603_242</td>\n",
       "      <td>605_244</td>\n",
       "      <td>603_242</td>\n",
       "      <td>605_244</td>\n",
       "      <td>603_242</td>\n",
       "      <td>朱</td>\n",
       "      <td>六</td>\n",
       "    </tr>\n",
       "  </tbody>\n",
       "</table>\n",
       "<p>205 rows × 17 columns</p>\n",
       "</div>"
      ],
      "text/plain": [
       "    student teacher  class1 class2        t_num   week11   week12   week13  \\\n",
       "0       劉倬安     宮菀琦   101.0     一A  _0937098209  102_221  105_211  101_212   \n",
       "1       劉宇楓     宮菀琦   103.0     一A  _0937098209  102_221  105_211  101_212   \n",
       "2        王橙     宮菀琦   103.0     一A  _0937098209  102_221  105_211  101_212   \n",
       "3       凃言臻     宮菀琦   103.0     一A  _0937098209  102_221  105_211  101_212   \n",
       "4       王蘊文     宮菀琦   103.0     一A  _0937098209  102_221  105_211  101_212   \n",
       "..      ...     ...     ...    ...          ...      ...      ...      ...   \n",
       "200     李維禹     梁玲琪   605.0     六B  _0939068087  605_244  602_241  602_241   \n",
       "201     鄭奇緯     梁玲琪   605.0     六B  _0939068087  605_244  602_241  602_241   \n",
       "202     李品寬     梁玲琪   605.0     六B  _0939068087  605_244  602_241  602_241   \n",
       "203     楊綺函     梁玲琪   605.0     六B  _0939068087  605_244  602_241  602_241   \n",
       "204     朱語倩     梁玲琪   602.0     六B  _0939068087  605_244  602_241  602_241   \n",
       "\n",
       "      week14   week15   week16   week17   week18   week19   week20  \\\n",
       "0    105_211  101_212  102_221  105_211  101_212  105_211  101_212   \n",
       "1    105_211  101_212  102_221  105_211  101_212  105_211  101_212   \n",
       "2    105_211  101_212  102_221  105_211  101_212  105_211  101_212   \n",
       "3    105_211  101_212  102_221  105_211  101_212  105_211  101_212   \n",
       "4    105_211  101_212  102_221  105_211  101_212  105_211  101_212   \n",
       "..       ...      ...      ...      ...      ...      ...      ...   \n",
       "200  603_242  605_244  603_242  605_244  603_242  605_244  603_242   \n",
       "201  603_242  605_244  603_242  605_244  603_242  605_244  603_242   \n",
       "202  603_242  605_244  603_242  605_244  603_242  605_244  603_242   \n",
       "203  603_242  605_244  603_242  605_244  603_242  605_244  603_242   \n",
       "204  603_242  605_244  603_242  605_244  603_242  605_244  603_242   \n",
       "\n",
       "    stu_surname grade  \n",
       "0             劉     一  \n",
       "1             劉     一  \n",
       "2             王     一  \n",
       "3             凃     一  \n",
       "4             王     一  \n",
       "..          ...   ...  \n",
       "200           李     六  \n",
       "201           鄭     六  \n",
       "202           李     六  \n",
       "203           楊     六  \n",
       "204           朱     六  \n",
       "\n",
       "[205 rows x 17 columns]"
      ]
     },
     "execution_count": 6,
     "metadata": {},
     "output_type": "execute_result"
    }
   ],
   "source": [
    "students"
   ]
  },
  {
   "cell_type": "markdown",
   "id": "73c1b23e-4a5e-41fc-9b5f-5307938923af",
   "metadata": {},
   "source": [
    "##### 更改結果\n",
    "輸入姓氏，即可將帶有其姓氏的學生列出來。\\\n",
    "若到了每週更新的時候，可直接更改for迴圈中的phonenumber變數（$week11 \\rightarrow week12$）"
   ]
  },
  {
   "cell_type": "code",
   "execution_count": 5,
   "id": "5379ff46-0f9d-4b9f-ad42-7119e1732e0f",
   "metadata": {
    "tags": []
   },
   "outputs": [
    {
     "name": "stdin",
     "output_type": "stream",
     "text": [
      "輸入姓氏：  金\n"
     ]
    },
    {
     "name": "stdout",
     "output_type": "stream",
     "text": [
      "姓名：金善元\n",
      "班別：二A\n",
      "班別：228\n",
      "老師：黃正雯\n",
      "老師電話：0922318222\n"
     ]
    }
   ],
   "source": [
    "surname = (input(\"輸入姓氏： \"))\n",
    "\n",
    "\n",
    "condition_name = students[\"stu_surname\"] == surname\n",
    "filtered_rows = students[condition_name]\n",
    "\n",
    "if not filtered_rows.empty:\n",
    "\n",
    "    for index, row in filtered_rows.iterrows():\n",
    "        student_name = row[\"student\"]\n",
    "        classnumber = row[\"class2\"]\n",
    "        phonenumber = row[\"week11\"]\n",
    "        teacher_name = row[\"teacher\"]\n",
    "        teacher_number = str(row[\"t_num\"])\n",
    "        \n",
    "        print(f\"姓名：{student_name}\")\n",
    "        print(f\"班別：{classnumber}\")\n",
    "        print(f\"班別：{phonenumber[4:7]}\")\n",
    "        print(f\"老師：{teacher_name}\")\n",
    "        print(f\"老師電話：{teacher_number[1:11]}\")\n",
    "else:\n",
    "    print(\"沒有符合的資料\")"
   ]
  },
  {
   "cell_type": "markdown",
   "id": "c5785ed0-80cd-4a53-b15c-37d625b73ce0",
   "metadata": {},
   "source": [
    "##### 介面優化，更好查詢"
   ]
  },
  {
   "cell_type": "code",
   "execution_count": 6,
   "id": "7b380f4c-27db-46ae-8f08-a12ae8a7fb52",
   "metadata": {
    "tags": []
   },
   "outputs": [],
   "source": [
    "import gradio as gr\n",
    "from IPython.display import display, HTML, Markdown"
   ]
  },
  {
   "cell_type": "code",
   "execution_count": 11,
   "id": "2b8fe6fa-cc5b-4e80-a08f-06dccf002860",
   "metadata": {
    "tags": []
   },
   "outputs": [
    {
     "name": "stdout",
     "output_type": "stream",
     "text": [
      "Running on local URL:  http://127.0.0.1:7867\n",
      "\n",
      "To create a public link, set `share=True` in `launch()`.\n"
     ]
    },
    {
     "data": {
      "text/html": [
       "<div><iframe src=\"http://127.0.0.1:7867/\" width=\"100%\" height=\"500\" allow=\"autoplay; camera; microphone; clipboard-read; clipboard-write;\" frameborder=\"0\" allowfullscreen></iframe></div>"
      ],
      "text/plain": [
       "<IPython.core.display.HTML object>"
      ]
     },
     "metadata": {},
     "output_type": "display_data"
    },
    {
     "data": {
      "text/plain": []
     },
     "execution_count": 11,
     "metadata": {},
     "output_type": "execute_result"
    }
   ],
   "source": [
    "def search_student(surname):\n",
    "\n",
    "    condition_name = students[\"stu_surname\"] == surname\n",
    "    filtered_rows = students[condition_name]\n",
    "\n",
    "    if not filtered_rows.empty:\n",
    "    \n",
    "        result = \"\"\n",
    "        for index, row in filtered_rows.iterrows():\n",
    "            student_name = row[\"student\"]\n",
    "            classnumber = row[\"class2\"]\n",
    "            phonenumber = row[\"week11\"]\n",
    "            teacher_name = row[\"teacher\"]\n",
    "            teacher_number = str(row[\"t_num\"])\n",
    "            \n",
    "            result += f\"姓名：{student_name}\\n\"\n",
    "            result += f\"班別：{classnumber}\\n\"\n",
    "            result += f\"電話：{phonenumber[4:7]}\\n\"\n",
    "            result += f\"老師：{teacher_name}\\n\"\n",
    "            result += f\"老師電話：{teacher_number[1:11]}\\n\"\n",
    "            result += \"-----------------\\n\"\n",
    "        \n",
    "        return result\n",
    "    else:\n",
    "        return \"沒有符合的資料\"\n",
    "\n",
    "demo = gr.Interface(fn=search_student,\n",
    "                    inputs = gr.Textbox(label=\"姓氏\"),\n",
    "                    outputs = gr.Textbox(label=\"查詢結果\"),\n",
    "                    title = \"學生資訊查詢\")\n",
    "    \n",
    "demo.launch()"
   ]
  },
  {
   "cell_type": "markdown",
   "id": "a75b326d-1e95-4300-9b7a-f0c30a5ae307",
   "metadata": {},
   "source": [
    "#### 不過，這樣的系統還有很多可以改善的地方，如下：\n",
    "\n",
    "1.可以自行選擇要以哪一種索引來查找資料，且不限於查找姓氏，名字或班級也可以\\\n",
    "2.可以直接在網頁中點選不同週別`(gr.Tab)`，不用回來更改程式碼\\\n",
    "3.一、二年級星期一到五的活動都不太一樣，所以該打的電話也不太一樣，可以考慮進去程式當中\\\n",
    "4.有些小朋友有兄弟姐妹，因此可能有一通電話要呼叫兩個小朋友的情況，如果可以直接跑出兩位小朋友的資訊會更快。"
   ]
  }
 ],
 "metadata": {
  "kernelspec": {
   "display_name": "Python 3 (ipykernel)",
   "language": "python",
   "name": "python3"
  },
  "language_info": {
   "codemirror_mode": {
    "name": "ipython",
    "version": 3
   },
   "file_extension": ".py",
   "mimetype": "text/x-python",
   "name": "python",
   "nbconvert_exporter": "python",
   "pygments_lexer": "ipython3",
   "version": "3.11.5"
  }
 },
 "nbformat": 4,
 "nbformat_minor": 5
}
